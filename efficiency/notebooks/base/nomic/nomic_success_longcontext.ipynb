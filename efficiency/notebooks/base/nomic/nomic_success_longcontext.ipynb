{
 "cells": [
  {
   "cell_type": "code",
   "execution_count": 1,
   "metadata": {},
   "outputs": [],
   "source": [
    "import torch\n",
    "import transformers\n",
    "import random\n",
    "import numpy as np\n",
    "def create_fixed_short_dataset(tokenizer, num_samples=8192):\n",
    "    # Fixed short context - all sequences 512 tokens\n",
    "    tokens = torch.randint(100, 16000, (num_samples, 512), dtype=torch.long)\n",
    "    mask = torch.ones(num_samples, 512, dtype=torch.long)\n",
    "    return {\n",
    "        'input_ids': tokens.long(),\n",
    "        'attention_mask': mask.long()\n",
    "    }\n",
    "\n",
    "def create_fixed_long_dataset(tokenizer, num_samples=8192):\n",
    "    # Fixed long context - all sequences 8192 tokens\n",
    "    tokens = torch.randint(100, 16000, (num_samples, 8192), dtype=torch.long)\n",
    "    mask = torch.ones(num_samples, 8192, dtype=torch.long)\n",
    "    return {\n",
    "        'input_ids': tokens.long(),\n",
    "        'attention_mask': mask.long()\n",
    "    }\n",
    "\n",
    "def create_variable_short_dataset(tokenizer, num_samples=8192):\n",
    "    # Variable short context - normal dist around 256 tokens\n",
    "    # Set random seeds for reproducibility\n",
    "    torch.manual_seed(42)\n",
    "    torch.cuda.manual_seed_all(42)\n",
    "    np.random.seed(42)\n",
    "    random.seed(42)\n",
    "    lengths = torch.normal(mean=256, std=64, size=(num_samples,)).int().clamp(32, 512)\n",
    "    tokens_list = []\n",
    "    masks_list = []\n",
    "    for length in lengths:\n",
    "        # Generate random tokens of the specified length\n",
    "        tokens = torch.randint(100, 16000, (length.item(),))\n",
    "        # Create attention mask of 1s for the actual tokens\n",
    "        mask = torch.ones(length.item())\n",
    "        # Pad both tokens and mask to max length\n",
    "        padded_tokens = torch.full((512,), tokenizer.pad_token_id, dtype=torch.long)\n",
    "        padded_mask = torch.zeros(512, dtype=torch.long)\n",
    "        padded_tokens[:length] = tokens\n",
    "        padded_mask[:length] = mask\n",
    "        tokens_list.append(padded_tokens)\n",
    "        masks_list.append(padded_mask)\n",
    "    \n",
    "    tokens = torch.stack(tokens_list)\n",
    "    masks = torch.stack(masks_list)\n",
    "    \n",
    "    return {\n",
    "        'input_ids': tokens.long(),\n",
    "        'attention_mask': masks.long()\n",
    "    }\n",
    "\n",
    "def create_variable_long_dataset(tokenizer, num_samples=8192):\n",
    "    # Variable long context - normal dist around 4096 tokens\n",
    "    # Set random seeds for reproducibility\n",
    "    torch.manual_seed(42)\n",
    "    torch.cuda.manual_seed_all(42)\n",
    "    np.random.seed(42)\n",
    "    random.seed(42)\n",
    "    lengths = torch.normal(mean=4096, std=1024, size=(num_samples,)).int().clamp(32, 8192)\n",
    "    tokens_list = []\n",
    "    masks_list = []\n",
    "    for length in lengths:\n",
    "        # Generate random tokens of the specified length\n",
    "        tokens = torch.randint(100, 16000, (length.item(),))\n",
    "        # Create attention mask of 1s for the actual tokens\n",
    "        mask = torch.ones(length.item())\n",
    "        # Pad both tokens and mask to max length\n",
    "        padded_tokens = torch.full((int(8192),), tokenizer.pad_token_id, dtype=torch.long)\n",
    "        padded_mask = torch.zeros(int(8192), dtype=torch.long)\n",
    "        padded_tokens[:length] = tokens\n",
    "        padded_mask[:length] = mask\n",
    "        tokens_list.append(padded_tokens)\n",
    "        masks_list.append(padded_mask)\n",
    "    \n",
    "    tokens = torch.stack(tokens_list)\n",
    "    masks = torch.stack(masks_list)\n",
    "    \n",
    "    return {\n",
    "        'input_ids': tokens.long(),\n",
    "        'attention_mask': masks.long()\n",
    "    }\n",
    "\n",
    "# Create all datasets\n",
    "def create_all_datasets(tokenizer, num_samples=8192):\n",
    "    datasets = {\n",
    "        'fixed_short': create_fixed_short_dataset(tokenizer, num_samples),\n",
    "        'fixed_long': create_fixed_long_dataset(tokenizer, num_samples), \n",
    "        'variable_short': create_variable_short_dataset(tokenizer, num_samples),\n",
    "        'variable_long': create_variable_long_dataset(tokenizer, num_samples)\n",
    "    }\n",
    "    return datasets"
   ]
  },
  {
   "cell_type": "code",
   "execution_count": 2,
   "metadata": {},
   "outputs": [
    {
     "name": "stderr",
     "output_type": "stream",
     "text": [
      "/home/bc/.cache/huggingface/modules/transformers_modules/nomic-ai/nomic-bert-2048/eb02ceb48c1fdcc477ff1925c9732c379f0f0d1f/modeling_hf_nomic_bert.py:108: FutureWarning: You are using `torch.load` with `weights_only=False` (the current default value), which uses the default pickle module implicitly. It is possible to construct malicious pickle data which will execute arbitrary code during unpickling (See https://github.com/pytorch/pytorch/blob/main/SECURITY.md#untrusted-models for more details). In a future release, the default value for `weights_only` will be flipped to `True`. This limits the functions that could be executed during unpickling. Arbitrary objects will no longer be allowed to be loaded via this mode unless they are explicitly allowlisted by the user via `torch.serialization.add_safe_globals`. We recommend you start setting `weights_only=True` for any use case where you don't have full control of the loaded file. Please open an issue on GitHub for any issues related to this experimental feature.\n",
      "  state_dict = loader(resolved_archive_file)\n",
      "<All keys matched successfully>\n"
     ]
    }
   ],
   "source": [
    "model = transformers.AutoModel.from_pretrained(\"nomic-ai/nomic-bert-2048\", trust_remote_code=True).to('cuda:1')\n",
    "tokenizer = transformers.AutoTokenizer.from_pretrained(\"nomic-ai/nomic-bert-2048\")"
   ]
  },
  {
   "cell_type": "code",
   "execution_count": 3,
   "metadata": {},
   "outputs": [],
   "source": [
    "gte_datasets = create_all_datasets(tokenizer, 4096)"
   ]
  },
  {
   "cell_type": "code",
   "execution_count": 4,
   "metadata": {},
   "outputs": [],
   "source": [
    "bsize = 36\n",
    "fixed_short_batch = {\n",
    "    'input_ids': gte_datasets['fixed_long']['input_ids'][:bsize].to('cuda:1'),\n",
    "    'attention_mask': gte_datasets['fixed_long']['attention_mask'][:bsize].to('cuda:1')\n",
    "}\n"
   ]
  },
  {
   "cell_type": "code",
   "execution_count": 5,
   "metadata": {},
   "outputs": [],
   "source": [
    "with torch.inference_mode():\n",
    "    outputs = model(**fixed_short_batch)"
   ]
  }
 ],
 "metadata": {
  "kernelspec": {
   "display_name": "bert24",
   "language": "python",
   "name": "python3"
  },
  "language_info": {
   "codemirror_mode": {
    "name": "ipython",
    "version": 3
   },
   "file_extension": ".py",
   "mimetype": "text/x-python",
   "name": "python",
   "nbconvert_exporter": "python",
   "pygments_lexer": "ipython3",
   "version": "3.11.9"
  }
 },
 "nbformat": 4,
 "nbformat_minor": 2
}
